{
 "cells": [
  {
   "cell_type": "code",
   "execution_count": 25,
   "metadata": {},
   "outputs": [
    {
     "name": "stdout",
     "output_type": "stream",
     "text": [
      "The autoreload extension is already loaded. To reload it, use:\n",
      "  %reload_ext autoreload\n"
     ]
    }
   ],
   "source": [
    "%load_ext autoreload\n",
    "%autoreload 2\n",
    "import interactive_simulation as intsim"
   ]
  },
  {
   "cell_type": "code",
   "execution_count": 26,
   "metadata": {
    "scrolled": false
   },
   "outputs": [
    {
     "data": {
      "application/vnd.jupyter.widget-view+json": {
       "model_id": "fe23961ce1184d5e9db2642a31b2df77",
       "version_major": 2,
       "version_minor": 0
      },
      "text/html": [
       "<p>Failed to display Jupyter Widget of type <code>interactive</code>.</p>\n",
       "<p>\n",
       "  If you're reading this message in the Jupyter Notebook or JupyterLab Notebook, it may mean\n",
       "  that the widgets JavaScript is still loading. If this message persists, it\n",
       "  likely means that the widgets JavaScript library is either not installed or\n",
       "  not enabled. See the <a href=\"https://ipywidgets.readthedocs.io/en/stable/user_install.html\">Jupyter\n",
       "  Widgets Documentation</a> for setup instructions.\n",
       "</p>\n",
       "<p>\n",
       "  If you're reading this message in another frontend (for example, a static\n",
       "  rendering on GitHub or <a href=\"https://nbviewer.jupyter.org/\">NBViewer</a>),\n",
       "  it may mean that your frontend doesn't currently support widgets.\n",
       "</p>\n"
      ],
      "text/plain": [
       "interactive(children=(FloatSlider(value=1.1, description='Fuel cost (€/L): ', layout=Layout(width='60%'), max=2.0, min=0.01, step=0.01, style=SliderStyle(description_width='initial')), FloatSlider(value=50.0, description='VRP - Van driver cost (€/d): ', layout=Layout(width='60%'), min=1.0, step=1.0, style=SliderStyle(description_width='initial')), FloatSlider(value=80.0, description='VRP - Van cost (€/v): ', layout=Layout(width='60%'), min=1.0, step=1.0, style=SliderStyle(description_width='initial')), FloatSlider(value=9.0, description='VRP - Van FC (L/100km): ', layout=Layout(width='60%'), max=15.0, style=SliderStyle(description_width='initial')), FloatSlider(value=0.5, description='VRP - Van PM emission (g/km): ', layout=Layout(width='60%'), max=1.0, min=0.1, step=0.01, style=SliderStyle(description_width='initial')), IntSlider(value=50, description='VRP - Van capacity: ', layout=Layout(width='60%'), min=5, step=5, style=SliderStyle(description_width='initial')), FloatSlider(value=5.0, description='VRP - Dropoff duration (min): ', layout=Layout(width='60%'), max=30.0, min=1.0, style=SliderStyle(description_width='initial')), FloatSlider(value=20.0, description='VRP - Van speed (km/h): ', layout=Layout(width='60%'), max=50.0, min=1.0, style=SliderStyle(description_width='initial')), FloatSlider(value=2.8, description='VRP - Van climate change cost (cts€/km): ', layout=Layout(width='60%'), max=2.9, min=2.8, style=SliderStyle(description_width='initial')), FloatSlider(value=3.0, description='VRP - Van public health cost (cts€/km): ', layout=Layout(width='60%'), max=5.9, min=1.1, style=SliderStyle(description_width='initial')), FloatSlider(value=60.0, description='MDVRP - Truck driver cost (€/d): ', layout=Layout(width='60%'), min=1.0, step=1.0, style=SliderStyle(description_width='initial')), FloatSlider(value=80.0, description='MDVRP - Truck cost (€/t): ', layout=Layout(width='60%'), max=120.0, min=1.0, step=1.0, style=SliderStyle(description_width='initial')), FloatSlider(value=1.0, description='MDVRP - Courrier cost (€/delivery): ', layout=Layout(width='60%'), max=10.0, min=0.1, style=SliderStyle(description_width='initial')), FloatSlider(value=13.0, description='MDVRP - Truck fuel consumption (L/100km): ', layout=Layout(width='60%'), max=15.0, style=SliderStyle(description_width='initial')), FloatSlider(value=1.0, description='MDVRP - Truck particle emission (g/km): ', layout=Layout(width='60%'), max=1.0, min=0.1, step=0.01, style=SliderStyle(description_width='initial')), FloatSlider(value=5.0, description='MDVRP - Bike capacity (#): ', layout=Layout(width='60%'), max=20.0, min=1.0, step=1.0, style=SliderStyle(description_width='initial')), FloatSlider(value=1.0, description='MDVRP - Truck dropoff duration: ', layout=Layout(width='60%'), max=15.0, step=1.0, style=SliderStyle(description_width='initial')), FloatSlider(value=1.0, description='MDVRP - Bike dropoff duration: ', layout=Layout(width='60%'), max=15.0, step=1.0, style=SliderStyle(description_width='initial')), FloatSlider(value=20.0, description='MDVRP - Truck speed: ', layout=Layout(width='60%'), max=50.0, step=1.0, style=SliderStyle(description_width='initial')), FloatSlider(value=15.0, description='MDVRP - Bike speed: ', layout=Layout(width='60%'), max=50.0, min=1.0, step=1.0, style=SliderStyle(description_width='initial')), FloatSlider(value=2.8, description='MDVRP - Truck climate change cost: ', layout=Layout(width='60%'), max=2.9, min=2.8, style=SliderStyle(description_width='initial')), FloatSlider(value=3.0, description='MDVRP - Truck public health cost: ', layout=Layout(width='60%'), max=5.9, min=1.1, style=SliderStyle(description_width='initial')), Button(description='Run Interact', style=ButtonStyle()), Output()), _dom_classes=('widget-interact',))"
      ]
     },
     "metadata": {},
     "output_type": "display_data"
    },
    {
     "data": {
      "text/plain": [
       "<function interactive_simulation.f>"
      ]
     },
     "execution_count": 26,
     "metadata": {},
     "output_type": "execute_result"
    }
   ],
   "source": [
    "intsim.interactive_plot()\n",
    "# prettytable\n",
    "# dashboard jupyter"
   ]
  },
  {
   "cell_type": "code",
   "execution_count": null,
   "metadata": {},
   "outputs": [],
   "source": []
  },
  {
   "cell_type": "code",
   "execution_count": null,
   "metadata": {},
   "outputs": [],
   "source": []
  }
 ],
 "metadata": {
  "kernelspec": {
   "display_name": "Python 3",
   "language": "python",
   "name": "python3"
  },
  "language_info": {
   "codemirror_mode": {
    "name": "ipython",
    "version": 3
   },
   "file_extension": ".py",
   "mimetype": "text/x-python",
   "name": "python",
   "nbconvert_exporter": "python",
   "pygments_lexer": "ipython3",
   "version": "3.5.0"
  }
 },
 "nbformat": 4,
 "nbformat_minor": 2
}
