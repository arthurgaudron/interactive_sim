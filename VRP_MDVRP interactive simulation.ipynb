{
 "cells": [
  {
   "cell_type": "code",
   "execution_count": 17,
   "metadata": {},
   "outputs": [
    {
     "name": "stdout",
     "output_type": "stream",
     "text": [
      "The autoreload extension is already loaded. To reload it, use:\n",
      "  %reload_ext autoreload\n"
     ]
    }
   ],
   "source": [
    "%load_ext autoreload\n",
    "%autoreload 2\n",
    "import interactive_simulation as intsim"
   ]
  },
  {
   "cell_type": "markdown",
   "metadata": {},
   "source": [
    "# E-commerce distribution\n",
    "\n",
    "You are a consultant in city logistics. A company asks you to investigate a new distribution solution using cargo-bikes or simple bikes.\n",
    "\n",
    "The current solution (called VRP): vans get parcels from the same depot and start their tour.\n",
    "- VRP simulation results: https://youtu.be/VNOpGlULIsk\n",
    "\n",
    "The new solution (called 2EVRP): bikes get parcels from several hubs in the city. These hubs are replenished by one truck.\n",
    "\n",
    "- DHL project: https://www.youtube.com/watch?v=MrYLwv9x8HU\n",
    "- 2EVRP simulation results: https://youtu.be/Jxtt7Y2vKC0\n",
    "\n",
    "# Simulation\n",
    "\n",
    "A typical day for this company is 200 deliveries. In 2EVRP, the truck doing the tour of the hubs has a capacity of 200 deliveries.\n",
    "\n",
    "You decide to develop a simulation to compare the new solution to their current solution. You asked an analyst to create the simulation. Unfortunately, he is in vacation and he did not document his work (BAD!).\n",
    "\n",
    "You are going to meet your client in one hour. Will be able to understand the model of your colleague? Did he implement all the specifications?\n",
    "\n",
    "Take the following survey to check your understanding of your colleague's work and the distribution.\n",
    "https://goo.gl/forms/PkiQ9xij16V3Xgnw1\n",
    "\n",
    "# How to use the tool\n",
    "\n",
    "Good new, you can't break anything in here !\n",
    "\n",
    "- Select a cell and press MAJ+ENTER to run it.\n",
    "- Run all the cells.\n",
    "- Modify the parameters thanks to the sliders\n",
    "- Restore the default parameters by running the cell gain\n"
   ]
  },
  {
   "cell_type": "code",
   "execution_count": 21,
   "metadata": {
    "scrolled": false
   },
   "outputs": [
    {
     "data": {
      "application/vnd.jupyter.widget-view+json": {
       "model_id": "f4cc0abb0b6a496c9a6c19acf64ab265",
       "version_major": 2,
       "version_minor": 0
      },
      "text/html": [
       "<p>Failed to display Jupyter Widget of type <code>interactive</code>.</p>\n",
       "<p>\n",
       "  If you're reading this message in the Jupyter Notebook or JupyterLab Notebook, it may mean\n",
       "  that the widgets JavaScript is still loading. If this message persists, it\n",
       "  likely means that the widgets JavaScript library is either not installed or\n",
       "  not enabled. See the <a href=\"https://ipywidgets.readthedocs.io/en/stable/user_install.html\">Jupyter\n",
       "  Widgets Documentation</a> for setup instructions.\n",
       "</p>\n",
       "<p>\n",
       "  If you're reading this message in another frontend (for example, a static\n",
       "  rendering on GitHub or <a href=\"https://nbviewer.jupyter.org/\">NBViewer</a>),\n",
       "  it may mean that your frontend doesn't currently support widgets.\n",
       "</p>\n"
      ],
      "text/plain": [
       "interactive(children=(FloatSlider(value=1.1, description='Fuel cost (€/L): ', layout=Layout(width='60%'), max=2.0, min=0.01, step=0.01, style=SliderStyle(description_width='initial')), FloatSlider(value=83.0, description='VRP - Van driver cost (€/d): ', layout=Layout(width='60%'), min=1.0, step=1.0, style=SliderStyle(description_width='initial')), FloatSlider(value=40.0, description='VRP - Van cost (€/v): ', layout=Layout(width='60%'), min=1.0, step=1.0, style=SliderStyle(description_width='initial')), FloatSlider(value=7.0, description='VRP - Van fuel consumption (L/100km): ', layout=Layout(width='60%'), max=15.0, style=SliderStyle(description_width='initial')), FloatSlider(value=0.5, description='VRP - Van PM emission (g/km): ', layout=Layout(width='60%'), max=1.0, min=0.1, step=0.01, style=SliderStyle(description_width='initial')), IntSlider(value=80, description='VRP - Van capacity (#): ', layout=Layout(width='60%'), min=5, step=5, style=SliderStyle(description_width='initial')), FloatSlider(value=5.0, description='VRP - Dropoff duration (min): ', layout=Layout(width='60%'), max=30.0, min=1.0, style=SliderStyle(description_width='initial')), FloatSlider(value=30.0, description='VRP - Van speed (km/h): ', layout=Layout(width='60%'), max=50.0, min=1.0, style=SliderStyle(description_width='initial')), FloatSlider(value=2.8, description='VRP - Van climate change cost (cts€/km): ', layout=Layout(width='60%'), max=5.0, min=0.1, style=SliderStyle(description_width='initial')), FloatSlider(value=3.0, description='VRP - Van public health cost (cts€/km): ', layout=Layout(width='60%'), max=5.9, min=1.1, style=SliderStyle(description_width='initial')), FloatSlider(value=83.0, description='MDVRP - Truck driver cost (€/d): ', layout=Layout(width='60%'), min=1.0, step=1.0, style=SliderStyle(description_width='initial')), FloatSlider(value=50.0, description='MDVRP - Truck cost (€/t): ', layout=Layout(width='60%'), max=120.0, min=1.0, step=1.0, style=SliderStyle(description_width='initial')), FloatSlider(value=5.0, description='MDVRP - Courrier cost (€/delivery): ', layout=Layout(width='60%'), max=10.0, min=0.1, style=SliderStyle(description_width='initial')), FloatSlider(value=25.0, description='MDVRP - Truck fuel consumption (L/100km): ', layout=Layout(width='60%'), max=40.0, style=SliderStyle(description_width='initial')), FloatSlider(value=0.308, description='MDVRP - Truck particle emission (g/tkm): ', layout=Layout(width='60%'), max=1.0, min=0.1, step=0.001, style=SliderStyle(description_width='initial')), FloatSlider(value=5.0, description='MDVRP - Bike capacity (#): ', layout=Layout(width='60%'), max=20.0, min=1.0, step=1.0, style=SliderStyle(description_width='initial')), FloatSlider(value=15.0, description='MDVRP - Truck dropoff duration (min): ', layout=Layout(width='60%'), max=30.0, step=1.0, style=SliderStyle(description_width='initial')), FloatSlider(value=5.0, description='MDVRP - Bike dropoff duration (min): ', layout=Layout(width='60%'), max=15.0, step=1.0, style=SliderStyle(description_width='initial')), FloatSlider(value=30.0, description='MDVRP - Truck speed (km/h): ', layout=Layout(width='60%'), max=50.0, min=1.0, step=1.0, style=SliderStyle(description_width='initial')), FloatSlider(value=20.0, description='MDVRP - Bike speed (km/h): ', layout=Layout(width='60%'), max=50.0, min=1.0, step=1.0, style=SliderStyle(description_width='initial')), FloatSlider(value=1.7, description='MDVRP - Truck climate change cost (cts€/km): ', layout=Layout(width='60%'), max=2.9, style=SliderStyle(description_width='initial')), FloatSlider(value=2.8, description='MDVRP - Truck air pollution cost (cts€/km): ', layout=Layout(width='60%'), max=5.9, style=SliderStyle(description_width='initial')), Output()), _dom_classes=('widget-interact',))"
      ]
     },
     "metadata": {},
     "output_type": "display_data"
    },
    {
     "data": {
      "text/plain": [
       "<function interactive_simulation.f>"
      ]
     },
     "execution_count": 21,
     "metadata": {},
     "output_type": "execute_result"
    }
   ],
   "source": [
    "intsim.interactive_plot()"
   ]
  },
  {
   "cell_type": "code",
   "execution_count": null,
   "metadata": {},
   "outputs": [],
   "source": []
  },
  {
   "cell_type": "code",
   "execution_count": null,
   "metadata": {},
   "outputs": [],
   "source": []
  }
 ],
 "metadata": {
  "kernelspec": {
   "display_name": "Python 3",
   "language": "python",
   "name": "python3"
  },
  "language_info": {
   "codemirror_mode": {
    "name": "ipython",
    "version": 3
   },
   "file_extension": ".py",
   "mimetype": "text/x-python",
   "name": "python",
   "nbconvert_exporter": "python",
   "pygments_lexer": "ipython3",
   "version": "3.5.0"
  }
 },
 "nbformat": 4,
 "nbformat_minor": 2
}
